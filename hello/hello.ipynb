{
 "cells": [
  {
   "cell_type": "code",
   "execution_count": 1,
   "metadata": {},
   "outputs": [],
   "source": [
    "!pip install -q -U google-generativeai"
   ]
  },
  {
   "cell_type": "code",
   "execution_count": 7,
   "metadata": {},
   "outputs": [
    {
     "name": "stdout",
     "output_type": "stream",
     "text": [
      "('There are several compelling reasons why learning about Generative AI is '\n",
      " 'beneficial:\\n'\n",
      " '\\n'\n",
      " '1. **Understanding the Fundamentals of AI**: Generative AI is a subset of '\n",
      " 'Artificial Intelligence that focuses on creating or generating new data or '\n",
      " 'content. By learning about Generative AI, you gain a deeper understanding of '\n",
      " 'the underlying principles and algorithms of AI, such as neural networks, '\n",
      " 'deep learning, and reinforcement learning.\\n'\n",
      " '\\n'\n",
      " '2. **Career Opportunities**: Generative AI is a rapidly growing field with a '\n",
      " 'high demand for skilled professionals. As more companies adopt Generative AI '\n",
      " 'technologies, there is an increasing need for experts who can develop, '\n",
      " 'implement, and manage these systems. Learning Generative AI can open up '\n",
      " 'exciting career opportunities in various industries, including technology, '\n",
      " 'media, entertainment, and healthcare.\\n'\n",
      " '\\n'\n",
      " '3. **Creative Applications**: Generative AI has the potential to '\n",
      " 'revolutionize creative industries. It can generate text, images, music, and '\n",
      " 'even videos, allowing artists, writers, and content creators to explore new '\n",
      " 'possibilities and augment their creative processes. By learning Generative '\n",
      " 'AI, you can harness its power to create unique and engaging content.\\n'\n",
      " '\\n'\n",
      " '4. **Research and Innovation**: Generative AI is an active area of research, '\n",
      " 'with continuous advancements and new applications emerging regularly. '\n",
      " 'Learning about Generative AI enables you to stay updated with the latest '\n",
      " 'developments, contribute to ongoing research, and drive innovation in the '\n",
      " 'field.\\n'\n",
      " '\\n'\n",
      " '5. **Real-World Applications**: Generative AI has already found practical '\n",
      " 'applications in various domains. For example, it is used to generate '\n",
      " 'realistic images for product visualization, create synthetic data for '\n",
      " 'training machine learning models, develop virtual assistants with natural '\n",
      " 'language capabilities, and generate personalized content for marketing '\n",
      " 'campaigns. By learning Generative AI, you can explore its potential to solve '\n",
      " 'real-world problems and contribute to technological advancements.\\n'\n",
      " '\\n'\n",
      " '6. **Ethical Considerations**: As Generative AI becomes more powerful, '\n",
      " 'ethical considerations become increasingly important. Learning about '\n",
      " 'Generative AI allows you to understand the potential biases and ethical '\n",
      " 'implications associated with these technologies. You can contribute to '\n",
      " 'developing responsible AI practices and ensure that Generative AI is used '\n",
      " 'for the benefit of society.\\n'\n",
      " '\\n'\n",
      " 'Overall, learning Generative AI provides a foundation for understanding the '\n",
      " 'latest advancements in AI, opens up career opportunities, enables creative '\n",
      " 'applications, fosters research and innovation, and empowers you to navigate '\n",
      " 'the ethical considerations surrounding these technologies.')\n"
     ]
    }
   ],
   "source": [
    "import google.generativeai as genai\n",
    "import os\n",
    "import pprint\n",
    "GOOGLE_API_KEY=os.getenv('GOOGLE_API_KEY')\n",
    "genai.configure(api_key=GOOGLE_API_KEY)\n",
    "\n",
    "# Set up the model\n",
    "generation_config = {\n",
    "  \"temperature\": 0.9,\n",
    "  \"top_p\": 1,\n",
    "  \"top_k\": 1,\n",
    "  \"max_output_tokens\": 2048,\n",
    "}\n",
    "\n",
    "safety_settings = [\n",
    "  {\n",
    "    \"category\": \"HARM_CATEGORY_HARASSMENT\",\n",
    "    \"threshold\": \"BLOCK_MEDIUM_AND_ABOVE\"\n",
    "  },\n",
    "  {\n",
    "    \"category\": \"HARM_CATEGORY_HATE_SPEECH\",\n",
    "    \"threshold\": \"BLOCK_MEDIUM_AND_ABOVE\"\n",
    "  },\n",
    "  {\n",
    "    \"category\": \"HARM_CATEGORY_SEXUALLY_EXPLICIT\",\n",
    "    \"threshold\": \"BLOCK_MEDIUM_AND_ABOVE\"\n",
    "  },\n",
    "  {\n",
    "    \"category\": \"HARM_CATEGORY_DANGEROUS_CONTENT\",\n",
    "    \"threshold\": \"BLOCK_MEDIUM_AND_ABOVE\"\n",
    "  }\n",
    "]\n",
    "\n",
    "model = genai.GenerativeModel(model_name=\"gemini-pro\",\n",
    "                              generation_config=generation_config,\n",
    "                              safety_settings=safety_settings)\n",
    "\n",
    "prompt_parts = [\n",
    "  \"Why we learn Generative AI?\",\n",
    "]\n",
    "\n",
    "response = model.generate_content(prompt_parts)\n",
    "pprint.pprint(response.text)"
   ]
  }
 ],
 "metadata": {
  "kernelspec": {
   "display_name": "base",
   "language": "python",
   "name": "python3"
  },
  "language_info": {
   "codemirror_mode": {
    "name": "ipython",
    "version": 3
   },
   "file_extension": ".py",
   "mimetype": "text/x-python",
   "name": "python",
   "nbconvert_exporter": "python",
   "pygments_lexer": "ipython3",
   "version": "3.11.3"
  }
 },
 "nbformat": 4,
 "nbformat_minor": 2
}
